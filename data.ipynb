{
 "cells": [
  {
   "cell_type": "code",
   "execution_count": 7,
   "metadata": {},
   "outputs": [],
   "source": [
    "import nibabel as nib\n",
    "import matplotlib.pyplot as plt\n",
    "import numpy as np\n",
    "n_patients=40\n",
    "data=[]\n",
    "for i in range(n_patients):\n",
    "    path = rf'D:\\Feta\\Institution 2 - Medical University of Vienna\\FeTA2024_TrainingData_MedicalUniversityOfVienna_V2.0\\derivatives\\biometry\\sub-{101+i}\\anat\\sub-{101+i}_rec-nmic_meas.nii.gz'\n",
    "    my_img  = nib.load(path)\n",
    "    nii_data = my_img.get_fdata()\n",
    "    nii_aff  = my_img.affine\n",
    "    nii_hdr  = my_img.header\n",
    "    data.append(nii_data)\n",
    "\n",
    "if (len(data)==n_patients):\n",
    "    np.savez('nii_data.npz', *data)\n"
   ]
  },
  {
   "cell_type": "markdown",
   "metadata": {},
   "source": [
    "To PLOT"
   ]
  },
  {
   "cell_type": "code",
   "execution_count": null,
   "metadata": {},
   "outputs": [],
   "source": [
    "import nibabel as nib\n",
    "import matplotlib.pyplot as plt\n",
    "\n",
    "# Change the path to your path\n",
    "path = r'D:\\Feta\\Institution 2 - Medical University of Vienna\\FeTA2024_TrainingData_MedicalUniversityOfVienna_V2.0\\derivatives\\biometry\\sub-101\\anat\\sub-101_rec-nmic_meas.nii.gz'\n",
    "my_img  = nib.load(path)\n",
    "nii_data = my_img.get_fdata()\n",
    "nii_aff  = my_img.affine\n",
    "nii_hdr  = my_img.header\n",
    "print(nii_aff ,'\\n',nii_hdr)\n",
    "print(nii_data.shape)\n",
    "if(len(nii_data.shape)==3):\n",
    "   for slice_Number in range(nii_data.shape[2]):\n",
    "       if np.sum(nii_data[:,:,slice_Number])!=0:\n",
    "        plt.imshow(nii_data[:,:,slice_Number],cmap='gray')\n",
    "        plt.title(slice_Number)\n",
    "        plt.show()\n",
    "if(len(nii_data.shape)==4):\n",
    "   for frame in range(nii_data.shape[3]):\n",
    "       for slice_Number in range(nii_data.shape[2]):\n",
    "           plt.imshow(nii_data[:,:,slice_Number,frame],cmap='gray')\n",
    "           plt.show()"
   ]
  },
  {
   "cell_type": "markdown",
   "metadata": {},
   "source": [
    "To Visualize"
   ]
  },
  {
   "cell_type": "code",
   "execution_count": null,
   "metadata": {},
   "outputs": [],
   "source": [
    "# Find the positions of the non-zero elements\n",
    "non_zero_positions = np.nonzero(nii_data)\n",
    "\n",
    "# non_zero_positions is a tuple of arrays (x, y, z positions)\n",
    "x_positions, y_positions, z_positions = non_zero_positions\n",
    "\n",
    "# Combine these into a single array of coordinates\n",
    "coordinates = np.column_stack(non_zero_positions)\n",
    "\n",
    "# Print the coordinates\n",
    "print(coordinates)\n",
    "\n",
    "values = nii_data[non_zero_positions]\n",
    "\n",
    "# Combine the coordinates and values\n",
    "coordinates_and_values = np.column_stack((x_positions, y_positions, z_positions, values))\n",
    "\n",
    "# Print the coordinates and values\n",
    "for coord in coordinates_and_values:\n",
    "    print(f\"Coordinate: ({coord[0]}, {coord[1]}, {coord[2]}) - Value: {coord[3]}\")"
   ]
  }
 ],
 "metadata": {
  "kernelspec": {
   "display_name": "Python 3",
   "language": "python",
   "name": "python3"
  },
  "language_info": {
   "codemirror_mode": {
    "name": "ipython",
    "version": 3
   },
   "file_extension": ".py",
   "mimetype": "text/x-python",
   "name": "python",
   "nbconvert_exporter": "python",
   "pygments_lexer": "ipython3",
   "version": "3.10.11"
  }
 },
 "nbformat": 4,
 "nbformat_minor": 2
}
